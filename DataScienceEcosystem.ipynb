{
 "cells": [
  {
   "cell_type": "markdown",
   "id": "3d97f29a-e651-40a8-b913-1cede094d387",
   "metadata": {},
   "source": [
    "# Data Science Tools and Ecosystem"
   ]
  },
  {
   "cell_type": "markdown",
   "id": "8183ee2c-3bbe-4c9c-b9ec-56affdea8d5b",
   "metadata": {},
   "source": [
    "In this notebook, Data Science Tools and Ecosystem are summarized."
   ]
  },
  {
   "cell_type": "markdown",
   "id": "1a9a1c05-de27-4080-8227-73929d1cb919",
   "metadata": {},
   "source": [
    "Some of the popular languages that Data Scientists use are:\n",
    "1. Python\n",
    "2. R\n",
    "3. SQL\n",
    "4. Julia\n",
    "5. C++\n",
    "6. Java\n",
    "7. JavaScript"
   ]
  },
  {
   "cell_type": "markdown",
   "id": "5f148718-2503-495b-914d-dfcf91d6cbcb",
   "metadata": {},
   "source": [
    "Some of the commonly used libraries used by Data Scientists include:\n",
    "1. pandas (Python)\n",
    "2. matplotlib (Python)\n",
    "3. scikit learn (Python)\n",
    "4. seaborn (Python)\n",
    "5. keras (Python)"
   ]
  },
  {
   "cell_type": "markdown",
   "id": "27c228bb-7b32-4a15-bc3e-cd0e9c810d55",
   "metadata": {},
   "source": [
    "|Data Science Tools|\n",
    "--------------------\n",
    "|PixeDust|\n",
    "|Hue|\n",
    "|PredictionIO|\n",
    "|ModelDB|\n",
    "|mleap|"
   ]
  },
  {
   "cell_type": "markdown",
   "id": "1d9f31ed-d0f1-41e1-8913-6c2a2533784b",
   "metadata": {},
   "source": [
    "### Below are a few examples of evaluating arithmetic expressions in Python"
   ]
  },
  {
   "cell_type": "code",
   "execution_count": 1,
   "id": "2e1190db-1972-4bf1-92ee-df0a2c6bc52e",
   "metadata": {
    "tags": []
   },
   "outputs": [
    {
     "data": {
      "text/plain": [
       "17"
      ]
     },
     "execution_count": 1,
     "metadata": {},
     "output_type": "execute_result"
    }
   ],
   "source": [
    "(3*4)+5\n",
    "#This a simple arithmetic expression to mutiply then add integers"
   ]
  },
  {
   "cell_type": "code",
   "execution_count": 2,
   "id": "6568db89-575d-4f0a-8878-0b7af16cf238",
   "metadata": {
    "tags": []
   },
   "outputs": [
    {
     "data": {
      "text/plain": [
       "3.3333333333333335"
      ]
     },
     "execution_count": 2,
     "metadata": {},
     "output_type": "execute_result"
    }
   ],
   "source": [
    "200/60\n",
    "#his will convert 200 minutes to hours by diving by 60"
   ]
  },
  {
   "cell_type": "markdown",
   "id": "69c387a7-cb6e-4032-b551-afea5d41031d",
   "metadata": {},
   "source": [
    "__Objectives:__\n",
    "- List popular languages for Data Science\n",
    "- Some of the commonly used libraries used by Data Scientists\n",
    "- Few examples of evaluating arithmetic expressions in Python\n",
    "- Data Science Tools and Ecosystem\n",
    "- This a simple arithmetic expression to mutiply then add integers"
   ]
  },
  {
   "cell_type": "markdown",
   "id": "4f7304d5-0d0d-420e-9df0-4bb2ae8e1dd7",
   "metadata": {},
   "source": [
    "## Author\n",
    "Cao Thai Minh Quang"
   ]
  },
  {
   "cell_type": "code",
   "execution_count": null,
   "id": "6ad45f56-98d4-43fa-b1d3-3ca8bdda9e89",
   "metadata": {},
   "outputs": [],
   "source": []
  }
 ],
 "metadata": {
  "kernelspec": {
   "display_name": "Python",
   "language": "python",
   "name": "conda-env-python-py"
  },
  "language_info": {
   "codemirror_mode": {
    "name": "ipython",
    "version": 3
   },
   "file_extension": ".py",
   "mimetype": "text/x-python",
   "name": "python",
   "nbconvert_exporter": "python",
   "pygments_lexer": "ipython3",
   "version": "3.7.12"
  }
 },
 "nbformat": 4,
 "nbformat_minor": 5
}
